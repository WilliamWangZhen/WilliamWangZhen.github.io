{
  "nbformat": 4,
  "nbformat_minor": 0,
  "metadata": {
    "kernelspec": {
      "display_name": "Python 3",
      "language": "python",
      "name": "python3"
    },
    "language_info": {
      "codemirror_mode": {
        "name": "ipython",
        "version": 3
      },
      "file_extension": ".py",
      "mimetype": "text/x-python",
      "name": "python",
      "nbconvert_exporter": "python",
      "pygments_lexer": "ipython3",
      "version": "3.6.6"
    },
    "toc": {
      "base_numbering": 1,
      "nav_menu": {},
      "number_sections": false,
      "sideBar": true,
      "skip_h1_title": false,
      "title_cell": "Table of Contents",
      "title_sidebar": "Contents",
      "toc_cell": false,
      "toc_position": {},
      "toc_section_display": true,
      "toc_window_display": false
    },
    "colab": {
      "name": "assignment1.ipynb",
      "provenance": [],
      "collapsed_sections": [],
      "toc_visible": true,
      "include_colab_link": true
    }
  },
  "cells": [
    {
      "cell_type": "markdown",
      "metadata": {
        "id": "view-in-github",
        "colab_type": "text"
      },
      "source": [
        "<a href=\"https://colab.research.google.com/github/WilliamWangZhen/WilliamWangZhen.github.io/blob/master/assignment1.ipynb\" target=\"_parent\"><img src=\"https://colab.research.google.com/assets/colab-badge.svg\" alt=\"Open In Colab\"/></a>"
      ]
    },
    {
      "cell_type": "markdown",
      "metadata": {
        "id": "lKCYOjA0y0ij",
        "colab_type": "text"
      },
      "source": [
        "Before you turn this assignment in, make sure everything runs as expected. \n",
        "\n",
        "You can either **restart the kernel** (in the menu bar, select Kernel $\\rightarrow$ Restart and Clear Output) and then **run all cells** (in the menu bar, select Cell $\\rightarrow$ Run All). \n",
        "Or, you can simply **clear the output for all cells** (in the menu bar, select Cell $\\rightarrow$ All Output $\\rightarrow$ Clear) and then **run all cells** (in the menu bar, select Cell $\\rightarrow$ Run All).\n",
        "\n",
        "---"
      ]
    },
    {
      "cell_type": "code",
      "metadata": {
        "id": "La9V3hbmy0il",
        "colab_type": "code",
        "colab": {}
      },
      "source": [
        "NAME = \"William Wang\"\n",
        "COLLABORATORS = \"\""
      ],
      "execution_count": 0,
      "outputs": []
    },
    {
      "cell_type": "markdown",
      "metadata": {
        "id": "dp_c8EPoy0iq",
        "colab_type": "text"
      },
      "source": [
        "# Assignment 1 - Intro to Python\n",
        "\n",
        "(15 points)"
      ]
    },
    {
      "cell_type": "markdown",
      "metadata": {
        "id": "yL3cFm7Ay0is",
        "colab_type": "text"
      },
      "source": [
        "## Learning Outcomes\n",
        "\n",
        "In this assignment you will practice:\n",
        "\n",
        "- Basic Python syntax\n",
        "- Writing simple Python functions\n",
        "- Working with strings and dictionaries"
      ]
    },
    {
      "cell_type": "markdown",
      "metadata": {
        "id": "yDQcQUjh0BPI",
        "colab_type": "text"
      },
      "source": [
        "# Task1 \n",
        "This is my SoloLearn profile.\n",
        "\n",
        "[https://www.sololearn.com/Profile/13729021](https://www.sololearn.com/Profile/13729021)"
      ]
    },
    {
      "cell_type": "markdown",
      "metadata": {
        "id": "nIx5zwdCy0iu",
        "colab_type": "text"
      },
      "source": [
        "## Question #1: Count symbols\n",
        "\n",
        "(3 points)"
      ]
    },
    {
      "cell_type": "markdown",
      "metadata": {
        "id": "YmtxnfBKy0iw",
        "colab_type": "text"
      },
      "source": [
        "In this question, you are given a string `s` which represents a DNA string. The string `s` consists of symbols `'A', 'C', 'G',` and `'T'`. An example of a length 21 DNA string is `\"ATGCTTCAGAAAGGTCTTACG.\"` \n",
        "\n",
        "Your task is to write a code which will count the number of times each of the symbols `'A', 'C', 'G'`, and `'T'` occur in `s`. Your code should generate a **list of 4 integers** and **print it out**."
      ]
    },
    {
      "cell_type": "code",
      "metadata": {
        "id": "FJVhGlaLy0ix",
        "colab_type": "code",
        "colab": {}
      },
      "source": [
        "# Here is the DNA string:\n",
        "\n",
        "s = 'AGCTTTTCATTCTGACTGCAACGGGCAATATGTCTCTGTGTGGATTAAAAAAAGAGTGTCTGATAGCAGC'"
      ],
      "execution_count": 0,
      "outputs": []
    },
    {
      "cell_type": "code",
      "metadata": {
        "id": "SFmoNix-y0i0",
        "colab_type": "code",
        "outputId": "a34d3cee-fc4c-4e53-f78b-5a5951d87af2",
        "colab": {
          "base_uri": "https://localhost:8080/",
          "height": 34
        }
      },
      "source": [
        "# the code below can count any characters in particular string. Output list is \n",
        "# alphabetical order\n",
        "dict_1 = {}\n",
        "for letter in s:\n",
        "    if letter in dict_1:\n",
        "        dict_1[letter] += 1\n",
        "    else:\n",
        "        dict_1[letter] = 1\n",
        "outputList = []\n",
        "for key in sorted(dict_1.keys()):\n",
        "    outputList.append(dict_1[key])\n",
        "\n",
        "print(outputList)"
      ],
      "execution_count": 0,
      "outputs": [
        {
          "output_type": "stream",
          "text": [
            "[20, 12, 17, 21]\n"
          ],
          "name": "stdout"
        }
      ]
    },
    {
      "cell_type": "markdown",
      "metadata": {
        "id": "yMi6CbdEy0i8",
        "colab_type": "text"
      },
      "source": [
        "## Question #2: Find a substring\n",
        "\n",
        "(4 points)"
      ]
    },
    {
      "cell_type": "markdown",
      "metadata": {
        "id": "0ARhqevry0i9",
        "colab_type": "text"
      },
      "source": [
        "You are given a dictionary of the US states and their capitals. The keys in the dictionary are states and the values are capital names.\n",
        "\n",
        "Write a code to return a **list of all capitals** that contain the name of a state in their name as a substring.\n",
        "\n",
        "**HINT:** For example, `Indianapolis` as a capital name and `Indiana` as a state name is one of the key/value pairs that your code would find. Your code should add `Indianapolis` to the list. After you found all capitals and added them to the list, print out the list."
      ]
    },
    {
      "cell_type": "code",
      "metadata": {
        "id": "EKt5oQqvy0i_",
        "colab_type": "code",
        "outputId": "39adcb57-6f89-4907-9902-fc0300b533d2",
        "colab": {
          "base_uri": "https://localhost:8080/",
          "height": 857
        }
      },
      "source": [
        "# Run this cell to create a dictionary of states' capitals\n",
        "capitals={\n",
        "    'Alabama': 'Montgomery',\n",
        "    'Alaska': 'Juneau',\n",
        "    'Arizona':'Phoenix',\n",
        "    'Arkansas':'Little Rock',\n",
        "    'California': 'Sacramento',\n",
        "    'Colorado':'Denver',\n",
        "    'Connecticut':'Hartford',\n",
        "    'Delaware':'Dover',\n",
        "    'Florida': 'Tallahassee',\n",
        "    'Georgia': 'Atlanta',\n",
        "    'Hawaii': 'Honolulu',\n",
        "    'Idaho': 'Boise',\n",
        "    'Illinios': 'Springfield',\n",
        "    'Indiana': 'Indianapolis',\n",
        "    'Iowa': 'Des Monies',\n",
        "    'Kansas': 'Topeka',\n",
        "    'Kentucky': 'Frankfort',\n",
        "    'Louisiana': 'Baton Rouge',\n",
        "    'Maine': 'Augusta',\n",
        "    'Maryland': 'Annapolis',\n",
        "    'Massachusetts': 'Boston',\n",
        "    'Michigan': 'Lansing',\n",
        "    'Minnesota': 'St. Paul',\n",
        "    'Mississippi': 'Jackson',\n",
        "    'Missouri': 'Jefferson City',\n",
        "    'Montana': 'Helena',\n",
        "    'Nebraska': 'Lincoln',\n",
        "    'Neveda': 'Carson City',\n",
        "    'New Hampshire': 'Concord',\n",
        "    'New Jersey': 'Trenton',\n",
        "    'New Mexico': 'Santa Fe',\n",
        "    'New York': 'Albany',\n",
        "    'North Carolina': 'Raleigh',\n",
        "    'North Dakota': 'Bismarck',\n",
        "    'Ohio': 'Columbus',\n",
        "    'Oklahoma': 'Oklahoma City',\n",
        "    'Oregon': 'Salem',\n",
        "    'Pennsylvania': 'Harrisburg',\n",
        "    'Rhoda Island': 'Providence',\n",
        "    'South Carolina': 'Columbia',\n",
        "    'South Dakota': 'Pierre',\n",
        "    'Tennessee': 'Nashville',\n",
        "    'Texas': 'Austin',\n",
        "    'Utah': 'Salt Lake City',\n",
        "    'Vermont': 'Montpelier',\n",
        "    'Virginia': 'Richmond',\n",
        "    'Washington': 'Olympia',\n",
        "    'West Virginia': 'Charleston',\n",
        "    'Wisconsin': 'Madison',\n",
        "    'Wyoming': 'Cheyenne'  \n",
        "}\n",
        "capitals"
      ],
      "execution_count": 0,
      "outputs": [
        {
          "output_type": "execute_result",
          "data": {
            "text/plain": [
              "{'Alabama': 'Montgomery',\n",
              " 'Alaska': 'Juneau',\n",
              " 'Arizona': 'Phoenix',\n",
              " 'Arkansas': 'Little Rock',\n",
              " 'California': 'Sacramento',\n",
              " 'Colorado': 'Denver',\n",
              " 'Connecticut': 'Hartford',\n",
              " 'Delaware': 'Dover',\n",
              " 'Florida': 'Tallahassee',\n",
              " 'Georgia': 'Atlanta',\n",
              " 'Hawaii': 'Honolulu',\n",
              " 'Idaho': 'Boise',\n",
              " 'Illinios': 'Springfield',\n",
              " 'Indiana': 'Indianapolis',\n",
              " 'Iowa': 'Des Monies',\n",
              " 'Kansas': 'Topeka',\n",
              " 'Kentucky': 'Frankfort',\n",
              " 'Louisiana': 'Baton Rouge',\n",
              " 'Maine': 'Augusta',\n",
              " 'Maryland': 'Annapolis',\n",
              " 'Massachusetts': 'Boston',\n",
              " 'Michigan': 'Lansing',\n",
              " 'Minnesota': 'St. Paul',\n",
              " 'Mississippi': 'Jackson',\n",
              " 'Missouri': 'Jefferson City',\n",
              " 'Montana': 'Helena',\n",
              " 'Nebraska': 'Lincoln',\n",
              " 'Neveda': 'Carson City',\n",
              " 'New Hampshire': 'Concord',\n",
              " 'New Jersey': 'Trenton',\n",
              " 'New Mexico': 'Santa Fe',\n",
              " 'New York': 'Albany',\n",
              " 'North Carolina': 'Raleigh',\n",
              " 'North Dakota': 'Bismarck',\n",
              " 'Ohio': 'Columbus',\n",
              " 'Oklahoma': 'Oklahoma City',\n",
              " 'Oregon': 'Salem',\n",
              " 'Pennsylvania': 'Harrisburg',\n",
              " 'Rhoda Island': 'Providence',\n",
              " 'South Carolina': 'Columbia',\n",
              " 'South Dakota': 'Pierre',\n",
              " 'Tennessee': 'Nashville',\n",
              " 'Texas': 'Austin',\n",
              " 'Utah': 'Salt Lake City',\n",
              " 'Vermont': 'Montpelier',\n",
              " 'Virginia': 'Richmond',\n",
              " 'Washington': 'Olympia',\n",
              " 'West Virginia': 'Charleston',\n",
              " 'Wisconsin': 'Madison',\n",
              " 'Wyoming': 'Cheyenne'}"
            ]
          },
          "metadata": {
            "tags": []
          },
          "execution_count": 4
        }
      ]
    },
    {
      "cell_type": "code",
      "metadata": {
        "id": "nYAfK8dYy0jD",
        "colab_type": "code",
        "outputId": "bfb039b1-833a-44cc-8c69-a899aa9baac5",
        "colab": {
          "base_uri": "https://localhost:8080/",
          "height": 34
        }
      },
      "source": [
        "l =[]\n",
        "for k in capitals.keys():\n",
        "    if k in capitals.get(k):\n",
        "        l.append(k)\n",
        "print(l)"
      ],
      "execution_count": 0,
      "outputs": [
        {
          "output_type": "stream",
          "text": [
            "['Indiana', 'Oklahoma']\n"
          ],
          "name": "stdout"
        }
      ]
    },
    {
      "cell_type": "code",
      "metadata": {
        "id": "iVsgO27gy0jG",
        "colab_type": "code",
        "colab": {}
      },
      "source": [
        ""
      ],
      "execution_count": 0,
      "outputs": []
    },
    {
      "cell_type": "code",
      "metadata": {
        "id": "WoVEY2CKy0jJ",
        "colab_type": "code",
        "colab": {}
      },
      "source": [
        ""
      ],
      "execution_count": 0,
      "outputs": []
    },
    {
      "cell_type": "markdown",
      "metadata": {
        "id": "eSbffs0Uy0jM",
        "colab_type": "text"
      },
      "source": [
        "## Question #3: Is a data point within a rectangle?\n",
        "\n",
        "(4 points)"
      ]
    },
    {
      "cell_type": "markdown",
      "metadata": {
        "id": "ziqm6fajy0jN",
        "colab_type": "text"
      },
      "source": [
        "Write a function `isIn()` which returns **boolean `True`** if a point is within a rectangle specified by two sets of coordinates and **boolean `False`** if the point is outside the rectangle. The function should accept three parameters:\n",
        "- the first parameter is a set of coordinates which defines one of the corners of the rectangle, \n",
        "- the second parameter is also a set of coordinates that defines the second corner,\n",
        "- the third set of coordinates defines a single point which is being tested.\n",
        "\n",
        "For example, \n",
        "- `isIn((1,2), (3,4), (1.5, 3.2))` should return `True`, \n",
        "- `isIn((4,3.5), (2,1), (3, 2))` should return `True`, \n",
        "- `isIn((-1,0), (5,5), (6,0))` should return `False`,\n",
        "- `isIn((4,1), (2,4), (2.5,4.5))` should return `False`.\n",
        "\n",
        "Test your function with at least 2 different sets of data points in addition to the examples above.\n",
        "\n",
        "**NOTES:** \n",
        "1. If the point being tested is on the side of the rectangle, consider it to be within the rectangle. For example, if the rectangle is defined as `(1,2), (3,4)` and the point is `(2,2)`, the function should return `True`.\n",
        "2. In this assignment, we assume that the edges of the rectangle are parallel to coordinate axes.\n",
        "3. We also assume that the first parameter does not always represent the left corner of the rectangle and the second parameter is not always the right corner. The function should work correctly either way. Please note the second test condition above where the first parameter, `(4,3.5)`, represents the top-right corner and the second parameter, `(2,1)`, represents left-bottom corner. "
      ]
    },
    {
      "cell_type": "code",
      "metadata": {
        "id": "0B3nh5sxy0jO",
        "colab_type": "code",
        "colab": {}
      },
      "source": [
        "def isIn(firstCorner=(0,0), secondCorner=(0,0), point=(0,0)):\n",
        "    '''(Tuple,Tuple,Tuple) -> boolean\n",
        "    returns boolean True if a point is within a rectangle specified by two sets of coordinates\n",
        "    and boolean False if the point is outside the rectangle. \n",
        "\n",
        "    >>> isIn((1,2), (3,4), (1.5, 3.2))\n",
        "    True\n",
        "    >>> isIn((4,3.5), (2,1), (3, 2))\n",
        "    True\n",
        "    >>> isIn((-1,0), (5,5), (6,0))\n",
        "    False\n",
        "    >>> isIn((4,1), (2,4), (2.5,4.5))\n",
        "    False\n",
        "    '''\n",
        "    \n",
        "    x1, y1 = firstCorner[0],firstCorner[1]\n",
        "    x2, y2 = secondCorner[0],secondCorner[1]\n",
        "    x3, y3 = point[0], point[1]\n",
        "\n",
        "    if x3 >= x1 and x3 <= x2 and y3 >= y1 and y3 <= y2:\n",
        "        return True\n",
        "    elif x3>= x2 and x3 <= x1 and y3 >= y2 and y3 <= y1:\n",
        "        return True\n",
        "    else:\n",
        "        return False\n",
        "\n"
      ],
      "execution_count": 0,
      "outputs": []
    },
    {
      "cell_type": "code",
      "metadata": {
        "id": "ZjByNj9Oy0jS",
        "colab_type": "code",
        "outputId": "4552bf4a-8f8b-41c6-ddfd-92deba15950c",
        "colab": {
          "base_uri": "https://localhost:8080/",
          "height": 34
        }
      },
      "source": [
        "isIn((1,2), (3,4), (1.5, 3.2))"
      ],
      "execution_count": 0,
      "outputs": [
        {
          "output_type": "execute_result",
          "data": {
            "text/plain": [
              "True"
            ]
          },
          "metadata": {
            "tags": []
          },
          "execution_count": 7
        }
      ]
    },
    {
      "cell_type": "code",
      "metadata": {
        "id": "4rO1PdwSy0jW",
        "colab_type": "code",
        "outputId": "5f70b11f-e8fa-4d9d-d736-be772e89f6ef",
        "colab": {
          "base_uri": "https://localhost:8080/",
          "height": 34
        }
      },
      "source": [
        "isIn((4,3.5), (2,1), (3, 2))"
      ],
      "execution_count": 0,
      "outputs": [
        {
          "output_type": "execute_result",
          "data": {
            "text/plain": [
              "True"
            ]
          },
          "metadata": {
            "tags": []
          },
          "execution_count": 8
        }
      ]
    },
    {
      "cell_type": "code",
      "metadata": {
        "id": "uRy1xCyUy0jd",
        "colab_type": "code",
        "outputId": "5132c50d-88e1-460a-e400-4922d2ca9308",
        "colab": {
          "base_uri": "https://localhost:8080/",
          "height": 34
        }
      },
      "source": [
        "isIn((-1,0), (5,5), (6,0))"
      ],
      "execution_count": 0,
      "outputs": [
        {
          "output_type": "execute_result",
          "data": {
            "text/plain": [
              "False"
            ]
          },
          "metadata": {
            "tags": []
          },
          "execution_count": 9
        }
      ]
    },
    {
      "cell_type": "code",
      "metadata": {
        "id": "_mWVqLa-EaYd",
        "colab_type": "code",
        "outputId": "5ec83fe5-744e-4139-8647-60b5c3506a7c",
        "colab": {
          "base_uri": "https://localhost:8080/",
          "height": 34
        }
      },
      "source": [
        "isIn((4,1), (2,4), (2.5,4.5))"
      ],
      "execution_count": 0,
      "outputs": [
        {
          "output_type": "execute_result",
          "data": {
            "text/plain": [
              "False"
            ]
          },
          "metadata": {
            "tags": []
          },
          "execution_count": 10
        }
      ]
    },
    {
      "cell_type": "markdown",
      "metadata": {
        "id": "9gcPDglQy0jh",
        "colab_type": "text"
      },
      "source": [
        "## Question #4: Are all points within a rectangle?\n",
        "\n",
        "(4 points)"
      ]
    },
    {
      "cell_type": "markdown",
      "metadata": {
        "id": "sOH9eLvfy0jj",
        "colab_type": "text"
      },
      "source": [
        "Modify your function from the previous question so it takes a list of points rather than a single point and returns **boolean `True`** only if all points in the list are in the rectangle.\n",
        "\n",
        "For example,\n",
        "\n",
        "- `allIn((0,0), (5,5), [(1,1), (0,0), (5,5)])` should return `True`\n",
        "- but `allIn((0,0), (5,5), [(1,1), (0,0), (5,6)])` should return `False`\n",
        "- empty list of points `allIn((0,0), (5,5), [])` should return `False`\n",
        "\n",
        "Use the same assumptions as above about the placement of the points and how rectangle is defined. Make sure that your function returns `False` for empty list of points (no values).\n",
        "\n",
        "Test your function with at least 3 different sets of data points."
      ]
    },
    {
      "cell_type": "code",
      "metadata": {
        "id": "AWxGFHp6y0jm",
        "colab_type": "code",
        "colab": {}
      },
      "source": [
        "def allIn(firstCorner=(0,0), secondCorner=(0,0), pointList=[]):\n",
        "    if pointList == []:\n",
        "        return False\n",
        "    \n",
        "    for point in pointList:\n",
        "        if not isIn(firstCorner, secondCorner, point):\n",
        "            return False\n",
        "    return True\n",
        "    "
      ],
      "execution_count": 0,
      "outputs": []
    },
    {
      "cell_type": "code",
      "metadata": {
        "id": "H2OUVCNRy0jp",
        "colab_type": "code",
        "outputId": "d0854d3a-9b9c-459b-842e-4c7c71bad54f",
        "colab": {
          "base_uri": "https://localhost:8080/",
          "height": 34
        }
      },
      "source": [
        "allIn((0,0), (5,5), [(1,1), (0,0), (5,5)])"
      ],
      "execution_count": 0,
      "outputs": [
        {
          "output_type": "execute_result",
          "data": {
            "text/plain": [
              "True"
            ]
          },
          "metadata": {
            "tags": []
          },
          "execution_count": 12
        }
      ]
    },
    {
      "cell_type": "code",
      "metadata": {
        "id": "Qq8Ue00Ly0js",
        "colab_type": "code",
        "outputId": "b2843d8c-80dd-4a95-a5e6-30ccdd2d4cc5",
        "colab": {
          "base_uri": "https://localhost:8080/",
          "height": 34
        }
      },
      "source": [
        "allIn((0,0), (5,5), [(1,1), (0,0), (5,6)])"
      ],
      "execution_count": 0,
      "outputs": [
        {
          "output_type": "execute_result",
          "data": {
            "text/plain": [
              "False"
            ]
          },
          "metadata": {
            "tags": []
          },
          "execution_count": 14
        }
      ]
    },
    {
      "cell_type": "code",
      "metadata": {
        "id": "34J1rPGOy0jv",
        "colab_type": "code",
        "outputId": "77a057a0-edf4-4714-d38a-c288e345c36c",
        "colab": {
          "base_uri": "https://localhost:8080/",
          "height": 34
        }
      },
      "source": [
        "allIn((0,0), (5,5), [])"
      ],
      "execution_count": 0,
      "outputs": [
        {
          "output_type": "execute_result",
          "data": {
            "text/plain": [
              "False"
            ]
          },
          "metadata": {
            "tags": []
          },
          "execution_count": 15
        }
      ]
    },
    {
      "cell_type": "code",
      "metadata": {
        "id": "Ivz3vRADy0jy",
        "colab_type": "code",
        "colab": {}
      },
      "source": [
        ""
      ],
      "execution_count": 0,
      "outputs": []
    },
    {
      "cell_type": "code",
      "metadata": {
        "id": "ZWaYNBKoy0j1",
        "colab_type": "code",
        "colab": {}
      },
      "source": [
        ""
      ],
      "execution_count": 0,
      "outputs": []
    }
  ]
}